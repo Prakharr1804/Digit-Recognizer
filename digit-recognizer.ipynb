{
 "cells": [
  {
   "cell_type": "code",
   "execution_count": 1,
   "id": "7d635b4f",
   "metadata": {
    "execution": {
     "iopub.execute_input": "2025-06-26T08:48:03.051688Z",
     "iopub.status.busy": "2025-06-26T08:48:03.051237Z",
     "iopub.status.idle": "2025-06-26T08:48:05.261076Z",
     "shell.execute_reply": "2025-06-26T08:48:05.259952Z"
    },
    "papermill": {
     "duration": 2.216319,
     "end_time": "2025-06-26T08:48:05.262952",
     "exception": false,
     "start_time": "2025-06-26T08:48:03.046633",
     "status": "completed"
    },
    "tags": []
   },
   "outputs": [],
   "source": [
    "import numpy as np # linear algebra\n",
    "import pandas as pd # data processing, CSV file I/O (e.g. pd.read_csv)\n",
    "from matplotlib import pyplot as plt\n"
   ]
  },
  {
   "cell_type": "code",
   "execution_count": 2,
   "id": "692c825d",
   "metadata": {
    "execution": {
     "iopub.execute_input": "2025-06-26T08:48:05.270286Z",
     "iopub.status.busy": "2025-06-26T08:48:05.269821Z",
     "iopub.status.idle": "2025-06-26T08:48:09.112942Z",
     "shell.execute_reply": "2025-06-26T08:48:09.112107Z"
    },
    "papermill": {
     "duration": 3.848662,
     "end_time": "2025-06-26T08:48:09.114728",
     "exception": false,
     "start_time": "2025-06-26T08:48:05.266066",
     "status": "completed"
    },
    "tags": []
   },
   "outputs": [],
   "source": [
    "data = pd.read_csv('/kaggle/input/digit-recognizer/train.csv')"
   ]
  },
  {
   "cell_type": "code",
   "execution_count": 3,
   "id": "4931d0e7",
   "metadata": {
    "execution": {
     "iopub.execute_input": "2025-06-26T08:48:09.121620Z",
     "iopub.status.busy": "2025-06-26T08:48:09.121312Z",
     "iopub.status.idle": "2025-06-26T08:48:09.151227Z",
     "shell.execute_reply": "2025-06-26T08:48:09.150027Z"
    },
    "papermill": {
     "duration": 0.035562,
     "end_time": "2025-06-26T08:48:09.153104",
     "exception": false,
     "start_time": "2025-06-26T08:48:09.117542",
     "status": "completed"
    },
    "tags": []
   },
   "outputs": [
    {
     "data": {
      "text/html": [
       "<div>\n",
       "<style scoped>\n",
       "    .dataframe tbody tr th:only-of-type {\n",
       "        vertical-align: middle;\n",
       "    }\n",
       "\n",
       "    .dataframe tbody tr th {\n",
       "        vertical-align: top;\n",
       "    }\n",
       "\n",
       "    .dataframe thead th {\n",
       "        text-align: right;\n",
       "    }\n",
       "</style>\n",
       "<table border=\"1\" class=\"dataframe\">\n",
       "  <thead>\n",
       "    <tr style=\"text-align: right;\">\n",
       "      <th></th>\n",
       "      <th>label</th>\n",
       "      <th>pixel0</th>\n",
       "      <th>pixel1</th>\n",
       "      <th>pixel2</th>\n",
       "      <th>pixel3</th>\n",
       "      <th>pixel4</th>\n",
       "      <th>pixel5</th>\n",
       "      <th>pixel6</th>\n",
       "      <th>pixel7</th>\n",
       "      <th>pixel8</th>\n",
       "      <th>...</th>\n",
       "      <th>pixel774</th>\n",
       "      <th>pixel775</th>\n",
       "      <th>pixel776</th>\n",
       "      <th>pixel777</th>\n",
       "      <th>pixel778</th>\n",
       "      <th>pixel779</th>\n",
       "      <th>pixel780</th>\n",
       "      <th>pixel781</th>\n",
       "      <th>pixel782</th>\n",
       "      <th>pixel783</th>\n",
       "    </tr>\n",
       "  </thead>\n",
       "  <tbody>\n",
       "    <tr>\n",
       "      <th>0</th>\n",
       "      <td>1</td>\n",
       "      <td>0</td>\n",
       "      <td>0</td>\n",
       "      <td>0</td>\n",
       "      <td>0</td>\n",
       "      <td>0</td>\n",
       "      <td>0</td>\n",
       "      <td>0</td>\n",
       "      <td>0</td>\n",
       "      <td>0</td>\n",
       "      <td>...</td>\n",
       "      <td>0</td>\n",
       "      <td>0</td>\n",
       "      <td>0</td>\n",
       "      <td>0</td>\n",
       "      <td>0</td>\n",
       "      <td>0</td>\n",
       "      <td>0</td>\n",
       "      <td>0</td>\n",
       "      <td>0</td>\n",
       "      <td>0</td>\n",
       "    </tr>\n",
       "    <tr>\n",
       "      <th>1</th>\n",
       "      <td>0</td>\n",
       "      <td>0</td>\n",
       "      <td>0</td>\n",
       "      <td>0</td>\n",
       "      <td>0</td>\n",
       "      <td>0</td>\n",
       "      <td>0</td>\n",
       "      <td>0</td>\n",
       "      <td>0</td>\n",
       "      <td>0</td>\n",
       "      <td>...</td>\n",
       "      <td>0</td>\n",
       "      <td>0</td>\n",
       "      <td>0</td>\n",
       "      <td>0</td>\n",
       "      <td>0</td>\n",
       "      <td>0</td>\n",
       "      <td>0</td>\n",
       "      <td>0</td>\n",
       "      <td>0</td>\n",
       "      <td>0</td>\n",
       "    </tr>\n",
       "    <tr>\n",
       "      <th>2</th>\n",
       "      <td>1</td>\n",
       "      <td>0</td>\n",
       "      <td>0</td>\n",
       "      <td>0</td>\n",
       "      <td>0</td>\n",
       "      <td>0</td>\n",
       "      <td>0</td>\n",
       "      <td>0</td>\n",
       "      <td>0</td>\n",
       "      <td>0</td>\n",
       "      <td>...</td>\n",
       "      <td>0</td>\n",
       "      <td>0</td>\n",
       "      <td>0</td>\n",
       "      <td>0</td>\n",
       "      <td>0</td>\n",
       "      <td>0</td>\n",
       "      <td>0</td>\n",
       "      <td>0</td>\n",
       "      <td>0</td>\n",
       "      <td>0</td>\n",
       "    </tr>\n",
       "    <tr>\n",
       "      <th>3</th>\n",
       "      <td>4</td>\n",
       "      <td>0</td>\n",
       "      <td>0</td>\n",
       "      <td>0</td>\n",
       "      <td>0</td>\n",
       "      <td>0</td>\n",
       "      <td>0</td>\n",
       "      <td>0</td>\n",
       "      <td>0</td>\n",
       "      <td>0</td>\n",
       "      <td>...</td>\n",
       "      <td>0</td>\n",
       "      <td>0</td>\n",
       "      <td>0</td>\n",
       "      <td>0</td>\n",
       "      <td>0</td>\n",
       "      <td>0</td>\n",
       "      <td>0</td>\n",
       "      <td>0</td>\n",
       "      <td>0</td>\n",
       "      <td>0</td>\n",
       "    </tr>\n",
       "    <tr>\n",
       "      <th>4</th>\n",
       "      <td>0</td>\n",
       "      <td>0</td>\n",
       "      <td>0</td>\n",
       "      <td>0</td>\n",
       "      <td>0</td>\n",
       "      <td>0</td>\n",
       "      <td>0</td>\n",
       "      <td>0</td>\n",
       "      <td>0</td>\n",
       "      <td>0</td>\n",
       "      <td>...</td>\n",
       "      <td>0</td>\n",
       "      <td>0</td>\n",
       "      <td>0</td>\n",
       "      <td>0</td>\n",
       "      <td>0</td>\n",
       "      <td>0</td>\n",
       "      <td>0</td>\n",
       "      <td>0</td>\n",
       "      <td>0</td>\n",
       "      <td>0</td>\n",
       "    </tr>\n",
       "  </tbody>\n",
       "</table>\n",
       "<p>5 rows × 785 columns</p>\n",
       "</div>"
      ],
      "text/plain": [
       "   label  pixel0  pixel1  pixel2  pixel3  pixel4  pixel5  pixel6  pixel7  \\\n",
       "0      1       0       0       0       0       0       0       0       0   \n",
       "1      0       0       0       0       0       0       0       0       0   \n",
       "2      1       0       0       0       0       0       0       0       0   \n",
       "3      4       0       0       0       0       0       0       0       0   \n",
       "4      0       0       0       0       0       0       0       0       0   \n",
       "\n",
       "   pixel8  ...  pixel774  pixel775  pixel776  pixel777  pixel778  pixel779  \\\n",
       "0       0  ...         0         0         0         0         0         0   \n",
       "1       0  ...         0         0         0         0         0         0   \n",
       "2       0  ...         0         0         0         0         0         0   \n",
       "3       0  ...         0         0         0         0         0         0   \n",
       "4       0  ...         0         0         0         0         0         0   \n",
       "\n",
       "   pixel780  pixel781  pixel782  pixel783  \n",
       "0         0         0         0         0  \n",
       "1         0         0         0         0  \n",
       "2         0         0         0         0  \n",
       "3         0         0         0         0  \n",
       "4         0         0         0         0  \n",
       "\n",
       "[5 rows x 785 columns]"
      ]
     },
     "execution_count": 3,
     "metadata": {},
     "output_type": "execute_result"
    }
   ],
   "source": [
    "data.head()"
   ]
  },
  {
   "cell_type": "code",
   "execution_count": 4,
   "id": "575fb0a9",
   "metadata": {
    "execution": {
     "iopub.execute_input": "2025-06-26T08:48:09.160574Z",
     "iopub.status.busy": "2025-06-26T08:48:09.160237Z",
     "iopub.status.idle": "2025-06-26T08:48:10.022515Z",
     "shell.execute_reply": "2025-06-26T08:48:10.021640Z"
    },
    "papermill": {
     "duration": 0.868009,
     "end_time": "2025-06-26T08:48:10.024204",
     "exception": false,
     "start_time": "2025-06-26T08:48:09.156195",
     "status": "completed"
    },
    "tags": []
   },
   "outputs": [],
   "source": [
    "data = np.array(data)\n",
    "m, n = data.shape\n",
    "np.random.shuffle(data)\n",
    "\n",
    "data_dev = data[0:1000].T\n",
    "Y_dev = data_dev[0]\n",
    "X_dev = data_dev[1:n]\n",
    "X_dev = X_dev / 255.\n",
    "\n",
    "data_train = data[1000:m].T\n",
    "Y_train = data_train[0]\n",
    "X_train = data_train[1:n]\n",
    "X_train = X_train / 255.\n",
    "_,m_train = X_train.shape\n"
   ]
  },
  {
   "cell_type": "code",
   "execution_count": 5,
   "id": "0cee192f",
   "metadata": {
    "execution": {
     "iopub.execute_input": "2025-06-26T08:48:10.031706Z",
     "iopub.status.busy": "2025-06-26T08:48:10.030895Z",
     "iopub.status.idle": "2025-06-26T08:48:10.036891Z",
     "shell.execute_reply": "2025-06-26T08:48:10.036128Z"
    },
    "papermill": {
     "duration": 0.011154,
     "end_time": "2025-06-26T08:48:10.038319",
     "exception": false,
     "start_time": "2025-06-26T08:48:10.027165",
     "status": "completed"
    },
    "tags": []
   },
   "outputs": [
    {
     "data": {
      "text/plain": [
       "array([5, 6, 6, ..., 3, 7, 1])"
      ]
     },
     "execution_count": 5,
     "metadata": {},
     "output_type": "execute_result"
    }
   ],
   "source": [
    "Y_train"
   ]
  },
  {
   "cell_type": "code",
   "execution_count": 6,
   "id": "8246186a",
   "metadata": {
    "execution": {
     "iopub.execute_input": "2025-06-26T08:48:10.045334Z",
     "iopub.status.busy": "2025-06-26T08:48:10.045063Z",
     "iopub.status.idle": "2025-06-26T08:48:10.055170Z",
     "shell.execute_reply": "2025-06-26T08:48:10.054192Z"
    },
    "papermill": {
     "duration": 0.01529,
     "end_time": "2025-06-26T08:48:10.056643",
     "exception": false,
     "start_time": "2025-06-26T08:48:10.041353",
     "status": "completed"
    },
    "tags": []
   },
   "outputs": [],
   "source": [
    "def init_params():\n",
    "    W1 = np.random.rand(10, 784) - 0.5\n",
    "    b1 = np.random.rand(10, 1) - 0.5\n",
    "    W2 = np.random.rand(10, 10) - 0.5\n",
    "    b2 = np.random.rand(10, 1) - 0.5\n",
    "    return W1, b1, W2, b2\n",
    "\n",
    "def ReLU(Z):\n",
    "    return np.maximum(Z, 0)\n",
    "\n",
    "def softmax(Z):\n",
    "    A = np.exp(Z) / sum(np.exp(Z))\n",
    "    return A\n",
    "    \n",
    "def forward_prop(W1, b1, W2, b2, X):\n",
    "    Z1 = W1.dot(X) + b1\n",
    "    A1 = ReLU(Z1)\n",
    "    Z2 = W2.dot(A1) + b2\n",
    "    A2 = softmax(Z2)\n",
    "    return Z1, A1, Z2, A2\n",
    "\n",
    "def ReLU_deriv(Z):\n",
    "    return Z > 0\n",
    "\n",
    "def one_hot(Y):\n",
    "    one_hot_Y = np.zeros((Y.size, Y.max() + 1))\n",
    "    one_hot_Y[np.arange(Y.size), Y] = 1\n",
    "    one_hot_Y = one_hot_Y.T\n",
    "    return one_hot_Y\n",
    "\n",
    "def backward_prop(Z1, A1, Z2, A2, W1, W2, X, Y):\n",
    "    one_hot_Y = one_hot(Y)\n",
    "    dZ2 = A2 - one_hot_Y\n",
    "    dW2 = 1 / m * dZ2.dot(A1.T)\n",
    "    db2 = 1 / m * np.sum(dZ2)\n",
    "    dZ1 = W2.T.dot(dZ2) * ReLU_deriv(Z1)\n",
    "    dW1 = 1 / m * dZ1.dot(X.T)\n",
    "    db1 = 1 / m * np.sum(dZ1)\n",
    "    return dW1, db1, dW2, db2\n",
    "\n",
    "def update_params(W1, b1, W2, b2, dW1, db1, dW2, db2, alpha):\n",
    "    W1 = W1 - alpha * dW1\n",
    "    b1 = b1 - alpha * db1    \n",
    "    W2 = W2 - alpha * dW2  \n",
    "    b2 = b2 - alpha * db2    \n",
    "    return W1, b1, W2, b2\n"
   ]
  },
  {
   "cell_type": "code",
   "execution_count": 7,
   "id": "5a9f1aad",
   "metadata": {
    "execution": {
     "iopub.execute_input": "2025-06-26T08:48:10.064242Z",
     "iopub.status.busy": "2025-06-26T08:48:10.063852Z",
     "iopub.status.idle": "2025-06-26T08:48:10.071356Z",
     "shell.execute_reply": "2025-06-26T08:48:10.070510Z"
    },
    "papermill": {
     "duration": 0.013162,
     "end_time": "2025-06-26T08:48:10.073112",
     "exception": false,
     "start_time": "2025-06-26T08:48:10.059950",
     "status": "completed"
    },
    "tags": []
   },
   "outputs": [],
   "source": [
    "def get_predictions(A2):\n",
    "    return np.argmax(A2, 0)\n",
    "\n",
    "def get_accuracy(predictions, Y):\n",
    "    print(predictions, Y)\n",
    "    return np.sum(predictions == Y) / Y.size\n",
    "\n",
    "def gradient_descent(X, Y, alpha, iterations):\n",
    "    W1, b1, W2, b2 = init_params()\n",
    "    for i in range(iterations):\n",
    "        Z1, A1, Z2, A2 = forward_prop(W1, b1, W2, b2, X)\n",
    "        dW1, db1, dW2, db2 = backward_prop(Z1, A1, Z2, A2, W1, W2, X, Y)\n",
    "        W1, b1, W2, b2 = update_params(W1, b1, W2, b2, dW1, db1, dW2, db2, alpha)\n",
    "        if i % 10 == 0:\n",
    "            print(\"Iteration: \", i)\n",
    "            predictions = get_predictions(A2)\n",
    "            print(get_accuracy(predictions, Y))\n",
    "    return W1, b1, W2, b2\n"
   ]
  },
  {
   "cell_type": "code",
   "execution_count": 8,
   "id": "e4ac556b",
   "metadata": {
    "execution": {
     "iopub.execute_input": "2025-06-26T08:48:10.080598Z",
     "iopub.status.busy": "2025-06-26T08:48:10.080264Z",
     "iopub.status.idle": "2025-06-26T08:48:49.175460Z",
     "shell.execute_reply": "2025-06-26T08:48:49.174491Z"
    },
    "papermill": {
     "duration": 39.101108,
     "end_time": "2025-06-26T08:48:49.177409",
     "exception": false,
     "start_time": "2025-06-26T08:48:10.076301",
     "status": "completed"
    },
    "tags": []
   },
   "outputs": [
    {
     "name": "stdout",
     "output_type": "stream",
     "text": [
      "Iteration:  0\n",
      "[6 2 7 ... 6 7 6] [5 6 6 ... 3 7 1]\n",
      "0.10624390243902439\n",
      "Iteration:  10\n",
      "[6 2 7 ... 3 7 1] [5 6 6 ... 3 7 1]\n",
      "0.2071951219512195\n",
      "Iteration:  20\n",
      "[6 2 7 ... 3 7 1] [5 6 6 ... 3 7 1]\n",
      "0.30946341463414634\n",
      "Iteration:  30\n",
      "[6 2 7 ... 3 7 1] [5 6 6 ... 3 7 1]\n",
      "0.38421951219512196\n",
      "Iteration:  40\n",
      "[6 2 7 ... 3 7 1] [5 6 6 ... 3 7 1]\n",
      "0.4362439024390244\n",
      "Iteration:  50\n",
      "[6 2 7 ... 3 7 1] [5 6 6 ... 3 7 1]\n",
      "0.4748780487804878\n",
      "Iteration:  60\n",
      "[6 2 7 ... 3 7 1] [5 6 6 ... 3 7 1]\n",
      "0.5035121951219512\n",
      "Iteration:  70\n",
      "[6 2 7 ... 3 7 1] [5 6 6 ... 3 7 1]\n",
      "0.531829268292683\n",
      "Iteration:  80\n",
      "[7 2 7 ... 3 7 1] [5 6 6 ... 3 7 1]\n",
      "0.5582682926829269\n",
      "Iteration:  90\n",
      "[7 2 7 ... 3 7 1] [5 6 6 ... 3 7 1]\n",
      "0.5840487804878048\n",
      "Iteration:  100\n",
      "[4 6 7 ... 3 7 1] [5 6 6 ... 3 7 1]\n",
      "0.6054634146341463\n",
      "Iteration:  110\n",
      "[4 6 2 ... 3 7 1] [5 6 6 ... 3 7 1]\n",
      "0.6273170731707317\n",
      "Iteration:  120\n",
      "[4 6 2 ... 3 7 1] [5 6 6 ... 3 7 1]\n",
      "0.6481463414634147\n",
      "Iteration:  130\n",
      "[4 6 2 ... 3 7 1] [5 6 6 ... 3 7 1]\n",
      "0.6672682926829269\n",
      "Iteration:  140\n",
      "[4 6 2 ... 3 7 1] [5 6 6 ... 3 7 1]\n",
      "0.6840243902439025\n",
      "Iteration:  150\n",
      "[4 6 2 ... 3 7 1] [5 6 6 ... 3 7 1]\n",
      "0.7000243902439024\n",
      "Iteration:  160\n",
      "[4 6 2 ... 3 7 1] [5 6 6 ... 3 7 1]\n",
      "0.7124390243902439\n",
      "Iteration:  170\n",
      "[4 6 2 ... 3 7 1] [5 6 6 ... 3 7 1]\n",
      "0.7243170731707317\n",
      "Iteration:  180\n",
      "[9 6 2 ... 3 7 1] [5 6 6 ... 3 7 1]\n",
      "0.7345121951219512\n",
      "Iteration:  190\n",
      "[5 6 2 ... 3 7 1] [5 6 6 ... 3 7 1]\n",
      "0.7444634146341463\n",
      "Iteration:  200\n",
      "[5 6 2 ... 3 7 1] [5 6 6 ... 3 7 1]\n",
      "0.753390243902439\n",
      "Iteration:  210\n",
      "[5 6 2 ... 3 7 1] [5 6 6 ... 3 7 1]\n",
      "0.7614878048780488\n",
      "Iteration:  220\n",
      "[5 6 2 ... 3 7 1] [5 6 6 ... 3 7 1]\n",
      "0.7692926829268293\n",
      "Iteration:  230\n",
      "[5 6 2 ... 3 7 1] [5 6 6 ... 3 7 1]\n",
      "0.7754146341463415\n",
      "Iteration:  240\n",
      "[5 6 2 ... 3 7 1] [5 6 6 ... 3 7 1]\n",
      "0.7811219512195122\n",
      "Iteration:  250\n",
      "[5 6 2 ... 3 7 1] [5 6 6 ... 3 7 1]\n",
      "0.7863658536585366\n",
      "Iteration:  260\n",
      "[5 6 2 ... 3 7 1] [5 6 6 ... 3 7 1]\n",
      "0.7919268292682927\n",
      "Iteration:  270\n",
      "[5 6 2 ... 3 7 1] [5 6 6 ... 3 7 1]\n",
      "0.7959756097560976\n",
      "Iteration:  280\n",
      "[5 6 2 ... 3 7 1] [5 6 6 ... 3 7 1]\n",
      "0.8008048780487805\n",
      "Iteration:  290\n",
      "[5 6 2 ... 3 7 1] [5 6 6 ... 3 7 1]\n",
      "0.8046829268292683\n",
      "Iteration:  300\n",
      "[5 6 2 ... 3 7 1] [5 6 6 ... 3 7 1]\n",
      "0.8092926829268293\n",
      "Iteration:  310\n",
      "[5 6 2 ... 3 7 1] [5 6 6 ... 3 7 1]\n",
      "0.8128048780487804\n",
      "Iteration:  320\n",
      "[5 6 2 ... 3 7 1] [5 6 6 ... 3 7 1]\n",
      "0.8156341463414634\n",
      "Iteration:  330\n",
      "[5 6 2 ... 3 7 1] [5 6 6 ... 3 7 1]\n",
      "0.8190731707317073\n",
      "Iteration:  340\n",
      "[5 6 2 ... 3 7 1] [5 6 6 ... 3 7 1]\n",
      "0.8224146341463414\n",
      "Iteration:  350\n",
      "[5 6 2 ... 3 7 1] [5 6 6 ... 3 7 1]\n",
      "0.825780487804878\n",
      "Iteration:  360\n",
      "[5 6 2 ... 3 7 1] [5 6 6 ... 3 7 1]\n",
      "0.828\n",
      "Iteration:  370\n",
      "[5 6 2 ... 3 7 1] [5 6 6 ... 3 7 1]\n",
      "0.8298780487804878\n",
      "Iteration:  380\n",
      "[5 6 2 ... 3 7 1] [5 6 6 ... 3 7 1]\n",
      "0.8318536585365853\n",
      "Iteration:  390\n",
      "[5 6 2 ... 3 7 1] [5 6 6 ... 3 7 1]\n",
      "0.8336585365853658\n",
      "Iteration:  400\n",
      "[5 6 2 ... 3 7 1] [5 6 6 ... 3 7 1]\n",
      "0.8361463414634146\n",
      "Iteration:  410\n",
      "[5 6 2 ... 3 7 1] [5 6 6 ... 3 7 1]\n",
      "0.838170731707317\n",
      "Iteration:  420\n",
      "[5 6 2 ... 3 7 1] [5 6 6 ... 3 7 1]\n",
      "0.8402682926829268\n",
      "Iteration:  430\n",
      "[5 6 2 ... 3 7 1] [5 6 6 ... 3 7 1]\n",
      "0.8420243902439024\n",
      "Iteration:  440\n",
      "[5 6 2 ... 3 7 1] [5 6 6 ... 3 7 1]\n",
      "0.8440243902439024\n",
      "Iteration:  450\n",
      "[5 6 2 ... 3 7 1] [5 6 6 ... 3 7 1]\n",
      "0.8457317073170731\n",
      "Iteration:  460\n",
      "[5 6 2 ... 3 7 1] [5 6 6 ... 3 7 1]\n",
      "0.847\n",
      "Iteration:  470\n",
      "[5 6 2 ... 3 7 1] [5 6 6 ... 3 7 1]\n",
      "0.8485609756097561\n",
      "Iteration:  480\n",
      "[5 6 2 ... 3 7 1] [5 6 6 ... 3 7 1]\n",
      "0.8496585365853658\n",
      "Iteration:  490\n",
      "[5 6 2 ... 3 7 1] [5 6 6 ... 3 7 1]\n",
      "0.8511951219512195\n"
     ]
    }
   ],
   "source": [
    "W1, b1, W2, b2 = gradient_descent(X_train, Y_train, 0.10, 500)"
   ]
  },
  {
   "cell_type": "code",
   "execution_count": 9,
   "id": "8826a53e",
   "metadata": {
    "execution": {
     "iopub.execute_input": "2025-06-26T08:48:49.189456Z",
     "iopub.status.busy": "2025-06-26T08:48:49.189093Z",
     "iopub.status.idle": "2025-06-26T08:48:49.195837Z",
     "shell.execute_reply": "2025-06-26T08:48:49.194923Z"
    },
    "papermill": {
     "duration": 0.014565,
     "end_time": "2025-06-26T08:48:49.197502",
     "exception": false,
     "start_time": "2025-06-26T08:48:49.182937",
     "status": "completed"
    },
    "tags": []
   },
   "outputs": [],
   "source": [
    "def make_predictions(X, W1, b1, W2, b2):\n",
    "    _, _, _, A2 = forward_prop(W1, b1, W2, b2, X)\n",
    "    predictions = get_predictions(A2)\n",
    "    return predictions\n",
    "\n",
    "def test_prediction(index, W1, b1, W2, b2):\n",
    "    current_image = X_train[:, index, None]\n",
    "    prediction = make_predictions(X_train[:, index, None], W1, b1, W2, b2)\n",
    "    label = Y_train[index]\n",
    "    print(\"Prediction: \", prediction)\n",
    "    print(\"Label: \", label)\n",
    "    \n",
    "    current_image = current_image.reshape((28, 28)) * 255\n",
    "    plt.gray()\n",
    "    plt.imshow(current_image, interpolation='nearest')\n",
    "    plt.show()"
   ]
  },
  {
   "cell_type": "code",
   "execution_count": 10,
   "id": "5e573630",
   "metadata": {
    "execution": {
     "iopub.execute_input": "2025-06-26T08:48:49.209502Z",
     "iopub.status.busy": "2025-06-26T08:48:49.209152Z",
     "iopub.status.idle": "2025-06-26T08:48:49.846084Z",
     "shell.execute_reply": "2025-06-26T08:48:49.844927Z"
    },
    "papermill": {
     "duration": 0.644614,
     "end_time": "2025-06-26T08:48:49.847603",
     "exception": false,
     "start_time": "2025-06-26T08:48:49.202989",
     "status": "completed"
    },
    "tags": []
   },
   "outputs": [
    {
     "name": "stdout",
     "output_type": "stream",
     "text": [
      "Prediction:  [5]\n",
      "Label:  5\n"
     ]
    },
    {
     "data": {
      "image/png": "[encoded data removed]",
      "text/plain": [
       "<Figure size 640x480 with 1 Axes>"
      ]
     },
     "metadata": {},
     "output_type": "display_data"
    },
    {
     "name": "stdout",
     "output_type": "stream",
     "text": [
      "Prediction:  [6]\n",
      "Label:  6\n"
     ]
    },
    {
     "data": {
      "image/png": "[encoded data removed]",
      "text/plain": [
       "<Figure size 640x480 with 1 Axes>"
      ]
     },
     "metadata": {},
     "output_type": "display_data"
    },
    {
     "name": "stdout",
     "output_type": "stream",
     "text": [
      "Prediction:  [2]\n",
      "Label:  6\n"
     ]
    },
    {
     "data": {
      "image/png": "[encoded data removed]",
      "text/plain": [
       "<Figure size 640x480 with 1 Axes>"
      ]
     },
     "metadata": {},
     "output_type": "display_data"
    },
    {
     "name": "stdout",
     "output_type": "stream",
     "text": [
      "Prediction:  [1]\n",
      "Label:  1\n"
     ]
    },
    {
     "data": {
      "image/png": "[encoded data removed]",
      "text/plain": [
       "<Figure size 640x480 with 1 Axes>"
      ]
     },
     "metadata": {},
     "output_type": "display_data"
    }
   ],
   "source": [
    "test_prediction(0, W1, b1, W2, b2)\n",
    "test_prediction(1, W1, b1, W2, b2)\n",
    "test_prediction(2, W1, b1, W2, b2)\n",
    "test_prediction(3, W1, b1, W2, b2)\n"
   ]
  }
 ],
 "metadata": {
  "kaggle": {
   "accelerator": "none",
   "dataSources": [
    {
     "databundleVersionId": 861823,
     "sourceId": 3004,
     "sourceType": "competition"
    }
   ],
   "dockerImageVersionId": 31040,
   "isGpuEnabled": false,
   "isInternetEnabled": false,
   "language": "python",
   "sourceType": "notebook"
  },
  "kernelspec": {
   "display_name": "Python 3",
   "language": "python",
   "name": "python3"
  },
  "language_info": {
   "codemirror_mode": {
    "name": "ipython",
    "version": 3
   },
   "file_extension": ".py",
   "mimetype": "text/x-python",
   "name": "python",
   "nbconvert_exporter": "python",
   "pygments_lexer": "ipython3",
   "version": "3.11.11"
  },
  "papermill": {
   "default_parameters": {},
   "duration": 52.678783,
   "end_time": "2025-06-26T08:48:50.475518",
   "environment_variables": {},
   "exception": null,
   "input_path": "__notebook__.ipynb",
   "output_path": "__notebook__.ipynb",
   "parameters": {},
   "start_time": "2025-06-26T08:47:57.796735",
   "version": "2.6.0"
  }
 },
 "nbformat": 4,
 "nbformat_minor": 5
}
